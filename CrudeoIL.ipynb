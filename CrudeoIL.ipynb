import pandas as pd

# Load the CSV file into a DataFrame
df = pd.read_csv('https://api.kite.trade/instruments')

# Filter the DataFrame
filtered_df = df[(df['segment'].isin(['MCX-FUT', 'MCX-OPT'])) & (df['name'] == 'CRUDEOIL')]

# Sort by Name (although in this case, they will all be 'CRUDEOIL')
sorted_df = filtered_df.sort_values(by='name')

# Display the sorted DataFrame
print(sorted_df)
sorted_df.to_csv('crudeoil.csv', index=False)
